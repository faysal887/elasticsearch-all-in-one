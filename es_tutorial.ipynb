{
 "cells": [
  {
   "cell_type": "code",
   "execution_count": 1,
   "metadata": {},
   "outputs": [],
   "source": [
    "import requests, json\n",
    "from elasticsearch import Elasticsearch\n",
    "from elasticsearch.client import IndicesClient\n",
    "from elasticsearch import exceptions\n",
    "import elasticsearch.helpers as ESH\n",
    "import pandas as pd\n",
    "pd.set_option('display.max_columns', 100)\n",
    "pd.set_option('display.max_rows', 10000)\n",
    "pd.set_option('display.max_colwidth', -1)"
   ]
  },
  {
   "cell_type": "markdown",
   "metadata": {},
   "source": [
    "## Connect to ES"
   ]
  },
  {
   "cell_type": "code",
   "execution_count": 2,
   "metadata": {},
   "outputs": [],
   "source": [
    "def pprint(data):\n",
    "    print(json.dumps(data, indent=4, sort_keys=True))"
   ]
  },
  {
   "cell_type": "code",
   "execution_count": 11,
   "metadata": {},
   "outputs": [
    {
     "name": "stdout",
     "output_type": "stream",
     "text": [
      "Connected!\n",
      "\n",
      "Cluster info: {\n",
      "    \"name\": \"mopbzp174193\",\n",
      "    \"cluster_name\": \"elasticsearch\",\n",
      "    \"cluster_uuid\": \"UDwteJ-GTXGNi_RtAU923g\",\n",
      "    \"version\": {\n",
      "        \"number\": \"7.5.1\",\n",
      "        \"build_flavor\": \"oss\",\n",
      "        \"build_type\": \"rpm\",\n",
      "        \"build_hash\": \"3ae9ac9a93c95bd0cdc054951cf95d88e1e18d96\",\n",
      "        \"build_date\": \"2019-12-16T22:57:37.835892Z\",\n",
      "        \"build_snapshot\": false,\n",
      "        \"lucene_version\": \"8.3.0\",\n",
      "        \"minimum_wire_compatibility_version\": \"6.8.0\",\n",
      "        \"minimum_index_compatibility_version\": \"6.0.0-beta1\"\n",
      "    },\n",
      "    \"tagline\": \"You Know, for Search\"\n",
      "}\n"
     ]
    }
   ],
   "source": [
    "import logging\n",
    "def connect_elasticsearch():\n",
    "    es = None\n",
    "    es = Elasticsearch([{'host': 'localhost', 'port': 9200}])\n",
    "    if es.ping():\n",
    "        print('Connected!\\n')\n",
    "    else:\n",
    "        print('Not connected!\\n')\n",
    "        print(\"RUN: sudo service elasticsearch start\")\n",
    "    return es\n",
    "\n",
    "logging.basicConfig(level=logging.ERROR)\n",
    "\n",
    "es = connect_elasticsearch()\n",
    "elastic_info = Elasticsearch.info(es)\n",
    "print (\"Cluster info:\", json.dumps(elastic_info, indent=4 ))"
   ]
  },
  {
   "cell_type": "markdown",
   "metadata": {},
   "source": [
    "## CREATE INDEX"
   ]
  },
  {
   "cell_type": "code",
   "execution_count": 12,
   "metadata": {},
   "outputs": [],
   "source": [
    "def create_index(es_object, index_name, mapping):\n",
    "    settings = {\n",
    "        \"settings\": {\n",
    "            \"number_of_shards\": 1,\n",
    "            \"number_of_replicas\": 0\n",
    "        },\n",
    "        \"mappings\": mapping,\n",
    "    }\n",
    "    try:\n",
    "        if not es_object.indices.exists(index_name):\n",
    "            # Ignore 400 means to ignore \"Index Already Exist\" error.\n",
    "            es_object.indices.create(index=index_name, ignore=400, body=settings)\n",
    "            response = \"created\"\n",
    "        else:\n",
    "            response = \"exists\"\n",
    "    except Exception as ex:\n",
    "        print(str(ex))\n",
    "        response = \"error\"\n",
    "        \n",
    "    finally:\n",
    "        return response"
   ]
  },
  {
   "cell_type": "markdown",
   "metadata": {},
   "source": [
    "## Get All Indices"
   ]
  },
  {
   "cell_type": "code",
   "execution_count": 13,
   "metadata": {},
   "outputs": [],
   "source": [
    "def get_all_index(es):\n",
    "    try:\n",
    "        if es != None:\n",
    "            # returns a list of all the cluster's indices\n",
    "            all_indices = es.indices.get_alias(\"*\")\n",
    "\n",
    "        return all_indices\n",
    "    except Exception as e:\n",
    "        print(e)\n",
    "        return False"
   ]
  },
  {
   "cell_type": "markdown",
   "metadata": {},
   "source": [
    "## DELETE INDEX"
   ]
  },
  {
   "cell_type": "code",
   "execution_count": 14,
   "metadata": {},
   "outputs": [],
   "source": [
    "def delete_index(es, ind_name):\n",
    "    try:\n",
    "        es.indices.delete(index=ind_name, ignore=[400, 404])\n",
    "        return True\n",
    "    except:\n",
    "        return False"
   ]
  },
  {
   "cell_type": "markdown",
   "metadata": {},
   "source": [
    "## GET MAPPING"
   ]
  },
  {
   "cell_type": "code",
   "execution_count": 15,
   "metadata": {},
   "outputs": [],
   "source": [
    "def get_mapping(es, index):\n",
    "    try:\n",
    "        mapping = es.indices.get_mapping(index)\n",
    "        return True\n",
    "    except Exception as e:\n",
    "        print(e)\n",
    "        return False"
   ]
  },
  {
   "cell_type": "markdown",
   "metadata": {},
   "source": [
    "## GET ALL DOCUMENTS"
   ]
  },
  {
   "cell_type": "code",
   "execution_count": 39,
   "metadata": {},
   "outputs": [],
   "source": [
    "def get_all_docs(index, sz):\n",
    "    try:\n",
    "        res = es.search(index=index,body = {\n",
    "        'size' : sz,\n",
    "        'query': {\n",
    "            'match_all' : {}\n",
    "        }\n",
    "        })\n",
    "        return res\n",
    "    except Exception as e:\n",
    "        print(e)\n",
    "        return False"
   ]
  },
  {
   "cell_type": "markdown",
   "metadata": {},
   "source": [
    "# CRUD"
   ]
  },
  {
   "cell_type": "markdown",
   "metadata": {},
   "source": [
    "### INSERT"
   ]
  },
  {
   "cell_type": "code",
   "execution_count": 17,
   "metadata": {},
   "outputs": [],
   "source": [
    "def set_doc(es, index_name, record):\n",
    "    try:\n",
    "        outcome = es.index(index=index_name,  body=record)\n",
    "        response=True\n",
    "    except Exception as ex:\n",
    "        print('Error in indexing data')\n",
    "        print(str(ex))\n",
    "        response=False\n",
    "        \n",
    "    return response"
   ]
  },
  {
   "cell_type": "markdown",
   "metadata": {},
   "source": [
    "### INSERT BULK"
   ]
  },
  {
   "cell_type": "code",
   "execution_count": 18,
   "metadata": {},
   "outputs": [],
   "source": [
    "def set_doc_bulk(es, index, docs):\n",
    "    try:\n",
    "        n_success, n_fail = ESH.bulk(es, docs, index=index, stats_only=True)\n",
    "        return n_success, n_fail\n",
    "    except Exception as e:\n",
    "        print(e)\n",
    "        return False"
   ]
  },
  {
   "cell_type": "markdown",
   "metadata": {},
   "source": [
    "### UPDATE"
   ]
  },
  {
   "cell_type": "code",
   "execution_count": 19,
   "metadata": {},
   "outputs": [],
   "source": [
    "def update_doc(es, index, body, _id):\n",
    "    try:\n",
    "        es.update(index=index,id=_id, body=body, retry_on_conflict=5)\n",
    "        return True\n",
    "    except Exception as e:\n",
    "        print(e)\n",
    "        return False"
   ]
  },
  {
   "cell_type": "markdown",
   "metadata": {},
   "source": [
    "### DELETE"
   ]
  },
  {
   "cell_type": "code",
   "execution_count": 20,
   "metadata": {},
   "outputs": [],
   "source": [
    "def delete_doc(es, index, _id):\n",
    "    try:\n",
    "        res=es.delete(index=index,id=_id)\n",
    "        return True\n",
    "    except Exception as e:\n",
    "        print(e)\n",
    "        return False"
   ]
  },
  {
   "cell_type": "markdown",
   "metadata": {},
   "source": [
    "## SEARCH"
   ]
  },
  {
   "cell_type": "markdown",
   "metadata": {},
   "source": [
    "#### i- QUERY"
   ]
  },
  {
   "cell_type": "code",
   "execution_count": 21,
   "metadata": {},
   "outputs": [],
   "source": [
    "def search(es_object, index_name, search):\n",
    "    try:\n",
    "        res = es_object.search(index=index_name, body=search)\n",
    "        return res\n",
    "    except Exception as e:\n",
    "        print(e)\n",
    "        return False"
   ]
  },
  {
   "cell_type": "code",
   "execution_count": 22,
   "metadata": {},
   "outputs": [
    {
     "data": {
      "text/html": [
       "<div>\n",
       "<style scoped>\n",
       "    .dataframe tbody tr th:only-of-type {\n",
       "        vertical-align: middle;\n",
       "    }\n",
       "\n",
       "    .dataframe tbody tr th {\n",
       "        vertical-align: top;\n",
       "    }\n",
       "\n",
       "    .dataframe thead th {\n",
       "        text-align: right;\n",
       "    }\n",
       "</style>\n",
       "<table border=\"1\" class=\"dataframe\">\n",
       "  <thead>\n",
       "    <tr style=\"text-align: right;\">\n",
       "      <th></th>\n",
       "      <th>_index</th>\n",
       "      <th>_type</th>\n",
       "      <th>_id</th>\n",
       "      <th>_score</th>\n",
       "      <th>_source</th>\n",
       "    </tr>\n",
       "  </thead>\n",
       "  <tbody>\n",
       "    <tr>\n",
       "      <th>0</th>\n",
       "      <td>movies</td>\n",
       "      <td>_doc</td>\n",
       "      <td>NstVM28B_MBVO-3Hn8xA</td>\n",
       "      <td>1.0</td>\n",
       "      <td>{'id': '135569', 'title': 'Star Trek Beyond', 'year': 2016, 'genre': ['Action', 'Adventure', 'Sci-Fi']}</td>\n",
       "    </tr>\n",
       "    <tr>\n",
       "      <th>1</th>\n",
       "      <td>movies</td>\n",
       "      <td>_doc</td>\n",
       "      <td>N8tVM28B_MBVO-3Hn8xA</td>\n",
       "      <td>1.0</td>\n",
       "      <td>{'id': '122886', 'title': 'Star Wars: Episode VII - The Force Awakens', 'year': 2015, 'genre': ['Action', 'Adventure', 'Fantasy', 'Sci-Fi', 'IMAX']}</td>\n",
       "    </tr>\n",
       "  </tbody>\n",
       "</table>\n",
       "</div>"
      ],
      "text/plain": [
       "   _index _type                   _id  _score  \\\n",
       "0  movies  _doc  NstVM28B_MBVO-3Hn8xA  1.0      \n",
       "1  movies  _doc  N8tVM28B_MBVO-3Hn8xA  1.0      \n",
       "\n",
       "                                                                                                                                                _source  \n",
       "0  {'id': '135569', 'title': 'Star Trek Beyond', 'year': 2016, 'genre': ['Action', 'Adventure', 'Sci-Fi']}                                               \n",
       "1  {'id': '122886', 'title': 'Star Wars: Episode VII - The Force Awakens', 'year': 2015, 'genre': ['Action', 'Adventure', 'Fantasy', 'Sci-Fi', 'IMAX']}  "
      ]
     },
     "execution_count": 22,
     "metadata": {},
     "output_type": "execute_result"
    }
   ],
   "source": [
    "query={\n",
    "  \"query\": {\n",
    "    \"query_string\": {\n",
    "      \"query\": \"*star*\",\n",
    "      \"analyzer\": \"snowball\",\n",
    "      \"fields\": [\"title\"],\n",
    "      \"default_operator\": \"and\"\n",
    "    }\n",
    "  }\n",
    "}\n",
    "    \n",
    "r=search(es, \"movies\", query)\n",
    "pd.DataFrame(r[\"hits\"][\"hits\"])\n"
   ]
  },
  {
   "cell_type": "code",
   "execution_count": null,
   "metadata": {},
   "outputs": [],
   "source": []
  },
  {
   "cell_type": "markdown",
   "metadata": {},
   "source": [
    "## EXAMPLE-1: DENORMALIZED INDEX"
   ]
  },
  {
   "cell_type": "code",
   "execution_count": 34,
   "metadata": {},
   "outputs": [
    {
     "data": {
      "text/plain": [
       "'exists'"
      ]
     },
     "execution_count": 34,
     "metadata": {},
     "output_type": "execute_result"
    }
   ],
   "source": [
    "# create index\n",
    "mapping={\n",
    "    \"properties\": {\n",
    "        \"year\": {\n",
    "            \"type\": \"date\",\n",
    "        },\n",
    "        \"genre\": {\n",
    "            \"type\": \"keyword\", # no analyzers applied, exact-matches ll'be returned for this field\n",
    "        },\n",
    "        \"title\": {\n",
    "            \"type\": \"text\", # analyzers applied\n",
    "            \"analyzer\": \"english\",\n",
    "        }\n",
    "    }\n",
    "}\n",
    "create_index(es, \"movies\", mapping)"
   ]
  },
  {
   "cell_type": "code",
   "execution_count": null,
   "metadata": {},
   "outputs": [],
   "source": [
    "# delete_index(es, \"series\")"
   ]
  },
  {
   "cell_type": "code",
   "execution_count": 36,
   "metadata": {},
   "outputs": [
    {
     "name": "stdout",
     "output_type": "stream",
     "text": [
      "Error in indexing data\n",
      "AuthorizationException(403, 'cluster_block_exception', 'index [movies] blocked by: [FORBIDDEN/12/index read-only / allow delete (api)];')\n"
     ]
    },
    {
     "data": {
      "text/plain": [
       "False"
      ]
     },
     "execution_count": 36,
     "metadata": {},
     "output_type": "execute_result"
    }
   ],
   "source": [
    "record={\n",
    "    \"genre\": [\"IMAX\", \"ACTION\"],\n",
    "    \"title\": \"6 Underground\",\n",
    "    \"year\": 2019\n",
    "}\n",
    "set_doc(es, \"movies\", record)\n"
   ]
  },
  {
   "cell_type": "code",
   "execution_count": 41,
   "metadata": {},
   "outputs": [],
   "source": [
    "doc1={ \"id\": \"135569\", \"title\" : \"Star Trek Beyond\", \"year\":2016 , \"genre\":[\"Action\", \"Adventure\", \"Sci-Fi\"] }\n",
    "\n",
    "doc2={ \"id\": \"122886\", \"title\" : \"Star Wars: Episode VII - The Force Awakens\", \"year\":2015 , \"genre\":[\"Action\", \"Adventure\", \"Fantasy\", \"Sci-Fi\", \"IMAX\"] }\n",
    "\n",
    "doc3={ \"id\": \"109487\", \"title\" : \"Interstellar\", \"year\":2014 , \"genre\":[\"Sci-Fi\", \"IMAX\"] }\n",
    "\n",
    "doc4={ \"id\": \"58559\", \"title\" : \"Dark Knight, The\", \"year\":2008 , \"genre\":[\"Action\", \"Crime\", \"Drama\", \"IMAX\"] }\n",
    "\n",
    "doc5={ \"id\": \"1924\", \"title\" : \"Plan 9 from Outer Space\", \"year\":1959 , \"genre\":[\"Horror\", \"Sci-Fi\"] }\n",
    "\n",
    "docs = [ doc1, doc2, doc3, doc4, doc5 ]"
   ]
  },
  {
   "cell_type": "code",
   "execution_count": 42,
   "metadata": {},
   "outputs": [
    {
     "name": "stdout",
     "output_type": "stream",
     "text": [
      "AuthorizationException(403, 'cluster_block_exception', 'index [movies] blocked by: [FORBIDDEN/12/index read-only / allow delete (api)];')\n"
     ]
    },
    {
     "data": {
      "text/plain": [
       "False"
      ]
     },
     "execution_count": 42,
     "metadata": {},
     "output_type": "execute_result"
    }
   ],
   "source": [
    "body={\"doc\": \n",
    "        {\n",
    "            \"genre\": [\"Action\",\"Adventure\"],\n",
    "            \"title\": \"6 Underground\",\n",
    "            \"id\": 135580,\n",
    "        }\n",
    "    }\n",
    "update_doc(es, \"movies\", body, \"Nd_XCG8B67ayOr6nWmi_\")"
   ]
  },
  {
   "cell_type": "code",
   "execution_count": null,
   "metadata": {},
   "outputs": [],
   "source": []
  },
  {
   "cell_type": "code",
   "execution_count": null,
   "metadata": {},
   "outputs": [],
   "source": []
  },
  {
   "cell_type": "markdown",
   "metadata": {},
   "source": [
    "## EXAMPLE-2: PARENT/CHILD INDEX"
   ]
  },
  {
   "cell_type": "code",
   "execution_count": 43,
   "metadata": {},
   "outputs": [
    {
     "data": {
      "text/plain": [
       "True"
      ]
     },
     "execution_count": 43,
     "metadata": {},
     "output_type": "execute_result"
    }
   ],
   "source": [
    "delete_index(es, \"series\")"
   ]
  },
  {
   "cell_type": "code",
   "execution_count": 44,
   "metadata": {},
   "outputs": [
    {
     "data": {
      "text/plain": [
       "'created'"
      ]
     },
     "execution_count": 44,
     "metadata": {},
     "output_type": "execute_result"
    }
   ],
   "source": [
    "# create index\n",
    "\n",
    "mapping={\n",
    "  \"mappings\": {\n",
    "    \"properties\": {\n",
    "      \"genre\": {\n",
    "        \"type\": \"keyword\"\n",
    "      },\n",
    "      \"film_to_franchise\": { \n",
    "        \"type\": \"join\",\n",
    "        \"relations\": {\n",
    "          # \"question\": \"answer\"\n",
    "          \"franchise\": \"film\"\n",
    "        }\n",
    "      }\n",
    "    }\n",
    "  }\n",
    "}\n",
    "\n",
    "create_index(es, \"series\", mapping)"
   ]
  },
  {
   "cell_type": "code",
   "execution_count": 45,
   "metadata": {},
   "outputs": [
    {
     "name": "stdout",
     "output_type": "stream",
     "text": [
      "8 0\n"
     ]
    },
    {
     "data": {
      "text/html": [
       "<div>\n",
       "<style scoped>\n",
       "    .dataframe tbody tr th:only-of-type {\n",
       "        vertical-align: middle;\n",
       "    }\n",
       "\n",
       "    .dataframe tbody tr th {\n",
       "        vertical-align: top;\n",
       "    }\n",
       "\n",
       "    .dataframe thead th {\n",
       "        text-align: right;\n",
       "    }\n",
       "</style>\n",
       "<table border=\"1\" class=\"dataframe\">\n",
       "  <thead>\n",
       "    <tr style=\"text-align: right;\">\n",
       "      <th></th>\n",
       "      <th>id</th>\n",
       "      <th>film_to_franchise</th>\n",
       "      <th>title</th>\n",
       "      <th>year</th>\n",
       "      <th>genre</th>\n",
       "    </tr>\n",
       "  </thead>\n",
       "  <tbody>\n",
       "    <tr>\n",
       "      <th>0</th>\n",
       "      <td>1</td>\n",
       "      <td>{'name': 'franchise'}</td>\n",
       "      <td>Star Wars</td>\n",
       "      <td>NaN</td>\n",
       "      <td>NaN</td>\n",
       "    </tr>\n",
       "    <tr>\n",
       "      <th>1</th>\n",
       "      <td>260</td>\n",
       "      <td>{'name': 'film', 'parent': '1'}</td>\n",
       "      <td>Star Wars: Episode IV - A New Hope</td>\n",
       "      <td>1977</td>\n",
       "      <td>[Action, Adventure, Sci-Fi]</td>\n",
       "    </tr>\n",
       "    <tr>\n",
       "      <th>2</th>\n",
       "      <td>1196</td>\n",
       "      <td>{'name': 'film', 'parent': '1'}</td>\n",
       "      <td>Star Wars: Episode V - The Empire Strikes Back</td>\n",
       "      <td>1980</td>\n",
       "      <td>[Action, Adventure, Sci-Fi]</td>\n",
       "    </tr>\n",
       "    <tr>\n",
       "      <th>3</th>\n",
       "      <td>1210</td>\n",
       "      <td>{'name': 'film', 'parent': '1'}</td>\n",
       "      <td>Star Wars: Episode VI - Return of the Jedi</td>\n",
       "      <td>1983</td>\n",
       "      <td>[Action, Adventure, Sci-Fi]</td>\n",
       "    </tr>\n",
       "    <tr>\n",
       "      <th>4</th>\n",
       "      <td>2628</td>\n",
       "      <td>{'name': 'film', 'parent': '1'}</td>\n",
       "      <td>Star Wars: Episode I - The Phantom Menace</td>\n",
       "      <td>1999</td>\n",
       "      <td>[Action, Adventure, Sci-Fi]</td>\n",
       "    </tr>\n",
       "    <tr>\n",
       "      <th>5</th>\n",
       "      <td>5378</td>\n",
       "      <td>{'name': 'film', 'parent': '1'}</td>\n",
       "      <td>Star Wars: Episode II - Attack of the Clones</td>\n",
       "      <td>2002</td>\n",
       "      <td>[Action, Adventure, Sci-Fi, IMAX]</td>\n",
       "    </tr>\n",
       "    <tr>\n",
       "      <th>6</th>\n",
       "      <td>33493</td>\n",
       "      <td>{'name': 'film', 'parent': '1'}</td>\n",
       "      <td>Star Wars: Episode III - Revenge of the Sith</td>\n",
       "      <td>2005</td>\n",
       "      <td>[Action, Adventure, Sci-Fi]</td>\n",
       "    </tr>\n",
       "    <tr>\n",
       "      <th>7</th>\n",
       "      <td>122886</td>\n",
       "      <td>{'name': 'film', 'parent': '1'}</td>\n",
       "      <td>Star Wars: Episode VII - The Force Awakens</td>\n",
       "      <td>2015</td>\n",
       "      <td>[Action, Adventure, Fantasy, Sci-Fi, IMAX]</td>\n",
       "    </tr>\n",
       "  </tbody>\n",
       "</table>\n",
       "</div>"
      ],
      "text/plain": [
       "       id                film_to_franchise  \\\n",
       "0  1       {'name': 'franchise'}             \n",
       "1  260     {'name': 'film', 'parent': '1'}   \n",
       "2  1196    {'name': 'film', 'parent': '1'}   \n",
       "3  1210    {'name': 'film', 'parent': '1'}   \n",
       "4  2628    {'name': 'film', 'parent': '1'}   \n",
       "5  5378    {'name': 'film', 'parent': '1'}   \n",
       "6  33493   {'name': 'film', 'parent': '1'}   \n",
       "7  122886  {'name': 'film', 'parent': '1'}   \n",
       "\n",
       "                                            title  year  \\\n",
       "0  Star Wars                                       NaN    \n",
       "1  Star Wars: Episode IV - A New Hope              1977   \n",
       "2  Star Wars: Episode V - The Empire Strikes Back  1980   \n",
       "3  Star Wars: Episode VI - Return of the Jedi      1983   \n",
       "4  Star Wars: Episode I - The Phantom Menace       1999   \n",
       "5  Star Wars: Episode II - Attack of the Clones    2002   \n",
       "6  Star Wars: Episode III - Revenge of the Sith    2005   \n",
       "7  Star Wars: Episode VII - The Force Awakens      2015   \n",
       "\n",
       "                                        genre  \n",
       "0  NaN                                         \n",
       "1  [Action, Adventure, Sci-Fi]                 \n",
       "2  [Action, Adventure, Sci-Fi]                 \n",
       "3  [Action, Adventure, Sci-Fi]                 \n",
       "4  [Action, Adventure, Sci-Fi]                 \n",
       "5  [Action, Adventure, Sci-Fi, IMAX]           \n",
       "6  [Action, Adventure, Sci-Fi]                 \n",
       "7  [Action, Adventure, Fantasy, Sci-Fi, IMAX]  "
      ]
     },
     "execution_count": 45,
     "metadata": {},
     "output_type": "execute_result"
    }
   ],
   "source": [
    "d=[{'id': '1', 'film_to_franchise': {'name': 'franchise'}, 'title': 'Star Wars'},\n",
    " {'id': '260',\n",
    "  'film_to_franchise': {'name': 'film', 'parent': '1'},\n",
    "  'title': 'Star Wars: Episode IV - A New Hope',\n",
    "  'year': '1977',\n",
    "  'genre': ['Action', 'Adventure', 'Sci-Fi']},\n",
    " {'id': '1196',\n",
    "  'film_to_franchise': {'name': 'film', 'parent': '1'},\n",
    "  'title': 'Star Wars: Episode V - The Empire Strikes Back',\n",
    "  'year': '1980',\n",
    "  'genre': ['Action', 'Adventure', 'Sci-Fi']},\n",
    " {'id': '1210',\n",
    "  'film_to_franchise': {'name': 'film', 'parent': '1'},\n",
    "  'title': 'Star Wars: Episode VI - Return of the Jedi',\n",
    "  'year': '1983',\n",
    "  'genre': ['Action', 'Adventure', 'Sci-Fi']},\n",
    " {'id': '2628',\n",
    "  'film_to_franchise': {'name': 'film', 'parent': '1'},\n",
    "  'title': 'Star Wars: Episode I - The Phantom Menace',\n",
    "  'year': '1999',\n",
    "  'genre': ['Action', 'Adventure', 'Sci-Fi']},\n",
    " {'id': '5378',\n",
    "  'film_to_franchise': {'name': 'film', 'parent': '1'},\n",
    "  'title': 'Star Wars: Episode II - Attack of the Clones',\n",
    "  'year': '2002',\n",
    "  'genre': ['Action', 'Adventure', 'Sci-Fi', 'IMAX']},\n",
    " {'id': '33493',\n",
    "  'film_to_franchise': {'name': 'film', 'parent': '1'},\n",
    "  'title': 'Star Wars: Episode III - Revenge of the Sith',\n",
    "  'year': '2005',\n",
    "  'genre': ['Action', 'Adventure', 'Sci-Fi']},\n",
    " {'id': '122886',\n",
    "  'film_to_franchise': {'name': 'film', 'parent': '1'},\n",
    "  'title': 'Star Wars: Episode VII - The Force Awakens',\n",
    "  'year': '2015',\n",
    "  'genre': ['Action', 'Adventure', 'Fantasy', 'Sci-Fi', 'IMAX']}]\n",
    "\n",
    "\n",
    "\n",
    "passed, failed = set_doc_bulk(es, \"series\", d)\n",
    "print(passed, failed)\n",
    "pd.DataFrame(d)"
   ]
  },
  {
   "cell_type": "code",
   "execution_count": 46,
   "metadata": {},
   "outputs": [
    {
     "data": {
      "text/html": [
       "<div>\n",
       "<style scoped>\n",
       "    .dataframe tbody tr th:only-of-type {\n",
       "        vertical-align: middle;\n",
       "    }\n",
       "\n",
       "    .dataframe tbody tr th {\n",
       "        vertical-align: top;\n",
       "    }\n",
       "\n",
       "    .dataframe thead th {\n",
       "        text-align: right;\n",
       "    }\n",
       "</style>\n",
       "<table border=\"1\" class=\"dataframe\">\n",
       "  <thead>\n",
       "    <tr style=\"text-align: right;\">\n",
       "      <th></th>\n",
       "      <th>_index</th>\n",
       "      <th>_type</th>\n",
       "      <th>_id</th>\n",
       "      <th>_score</th>\n",
       "      <th>_source</th>\n",
       "    </tr>\n",
       "  </thead>\n",
       "  <tbody>\n",
       "    <tr>\n",
       "      <th>0</th>\n",
       "      <td>series</td>\n",
       "      <td>_doc</td>\n",
       "      <td>8n7FWHABs3C7qiFqPPoX</td>\n",
       "      <td>1.0</td>\n",
       "      <td>{'id': '1', 'film_to_franchise': {'name': 'franchise'}, 'title': 'Star Wars'}</td>\n",
       "    </tr>\n",
       "    <tr>\n",
       "      <th>1</th>\n",
       "      <td>series</td>\n",
       "      <td>_doc</td>\n",
       "      <td>837FWHABs3C7qiFqPPoY</td>\n",
       "      <td>1.0</td>\n",
       "      <td>{'id': '260', 'film_to_franchise': {'name': 'film', 'parent': '1'}, 'title': 'Star Wars: Episode IV - A New Hope', 'year': '1977', 'genre': ['Action', 'Adventure', 'Sci-Fi']}</td>\n",
       "    </tr>\n",
       "    <tr>\n",
       "      <th>2</th>\n",
       "      <td>series</td>\n",
       "      <td>_doc</td>\n",
       "      <td>9H7FWHABs3C7qiFqPPoY</td>\n",
       "      <td>1.0</td>\n",
       "      <td>{'id': '1196', 'film_to_franchise': {'name': 'film', 'parent': '1'}, 'title': 'Star Wars: Episode V - The Empire Strikes Back', 'year': '1980', 'genre': ['Action', 'Adventure', 'Sci-Fi']}</td>\n",
       "    </tr>\n",
       "    <tr>\n",
       "      <th>3</th>\n",
       "      <td>series</td>\n",
       "      <td>_doc</td>\n",
       "      <td>9X7FWHABs3C7qiFqPPoY</td>\n",
       "      <td>1.0</td>\n",
       "      <td>{'id': '1210', 'film_to_franchise': {'name': 'film', 'parent': '1'}, 'title': 'Star Wars: Episode VI - Return of the Jedi', 'year': '1983', 'genre': ['Action', 'Adventure', 'Sci-Fi']}</td>\n",
       "    </tr>\n",
       "    <tr>\n",
       "      <th>4</th>\n",
       "      <td>series</td>\n",
       "      <td>_doc</td>\n",
       "      <td>9n7FWHABs3C7qiFqPPoY</td>\n",
       "      <td>1.0</td>\n",
       "      <td>{'id': '2628', 'film_to_franchise': {'name': 'film', 'parent': '1'}, 'title': 'Star Wars: Episode I - The Phantom Menace', 'year': '1999', 'genre': ['Action', 'Adventure', 'Sci-Fi']}</td>\n",
       "    </tr>\n",
       "    <tr>\n",
       "      <th>5</th>\n",
       "      <td>series</td>\n",
       "      <td>_doc</td>\n",
       "      <td>937FWHABs3C7qiFqPPoY</td>\n",
       "      <td>1.0</td>\n",
       "      <td>{'id': '5378', 'film_to_franchise': {'name': 'film', 'parent': '1'}, 'title': 'Star Wars: Episode II - Attack of the Clones', 'year': '2002', 'genre': ['Action', 'Adventure', 'Sci-Fi', 'IMAX']}</td>\n",
       "    </tr>\n",
       "    <tr>\n",
       "      <th>6</th>\n",
       "      <td>series</td>\n",
       "      <td>_doc</td>\n",
       "      <td>-H7FWHABs3C7qiFqPPoY</td>\n",
       "      <td>1.0</td>\n",
       "      <td>{'id': '33493', 'film_to_franchise': {'name': 'film', 'parent': '1'}, 'title': 'Star Wars: Episode III - Revenge of the Sith', 'year': '2005', 'genre': ['Action', 'Adventure', 'Sci-Fi']}</td>\n",
       "    </tr>\n",
       "    <tr>\n",
       "      <th>7</th>\n",
       "      <td>series</td>\n",
       "      <td>_doc</td>\n",
       "      <td>-X7FWHABs3C7qiFqPPoY</td>\n",
       "      <td>1.0</td>\n",
       "      <td>{'id': '122886', 'film_to_franchise': {'name': 'film', 'parent': '1'}, 'title': 'Star Wars: Episode VII - The Force Awakens', 'year': '2015', 'genre': ['Action', 'Adventure', 'Fantasy', 'Sci-Fi', 'IMAX']}</td>\n",
       "    </tr>\n",
       "  </tbody>\n",
       "</table>\n",
       "</div>"
      ],
      "text/plain": [
       "   _index _type                   _id  _score  \\\n",
       "0  series  _doc  8n7FWHABs3C7qiFqPPoX  1.0      \n",
       "1  series  _doc  837FWHABs3C7qiFqPPoY  1.0      \n",
       "2  series  _doc  9H7FWHABs3C7qiFqPPoY  1.0      \n",
       "3  series  _doc  9X7FWHABs3C7qiFqPPoY  1.0      \n",
       "4  series  _doc  9n7FWHABs3C7qiFqPPoY  1.0      \n",
       "5  series  _doc  937FWHABs3C7qiFqPPoY  1.0      \n",
       "6  series  _doc  -H7FWHABs3C7qiFqPPoY  1.0      \n",
       "7  series  _doc  -X7FWHABs3C7qiFqPPoY  1.0      \n",
       "\n",
       "                                                                                                                                                                                                        _source  \n",
       "0  {'id': '1', 'film_to_franchise': {'name': 'franchise'}, 'title': 'Star Wars'}                                                                                                                                 \n",
       "1  {'id': '260', 'film_to_franchise': {'name': 'film', 'parent': '1'}, 'title': 'Star Wars: Episode IV - A New Hope', 'year': '1977', 'genre': ['Action', 'Adventure', 'Sci-Fi']}                                \n",
       "2  {'id': '1196', 'film_to_franchise': {'name': 'film', 'parent': '1'}, 'title': 'Star Wars: Episode V - The Empire Strikes Back', 'year': '1980', 'genre': ['Action', 'Adventure', 'Sci-Fi']}                   \n",
       "3  {'id': '1210', 'film_to_franchise': {'name': 'film', 'parent': '1'}, 'title': 'Star Wars: Episode VI - Return of the Jedi', 'year': '1983', 'genre': ['Action', 'Adventure', 'Sci-Fi']}                       \n",
       "4  {'id': '2628', 'film_to_franchise': {'name': 'film', 'parent': '1'}, 'title': 'Star Wars: Episode I - The Phantom Menace', 'year': '1999', 'genre': ['Action', 'Adventure', 'Sci-Fi']}                        \n",
       "5  {'id': '5378', 'film_to_franchise': {'name': 'film', 'parent': '1'}, 'title': 'Star Wars: Episode II - Attack of the Clones', 'year': '2002', 'genre': ['Action', 'Adventure', 'Sci-Fi', 'IMAX']}             \n",
       "6  {'id': '33493', 'film_to_franchise': {'name': 'film', 'parent': '1'}, 'title': 'Star Wars: Episode III - Revenge of the Sith', 'year': '2005', 'genre': ['Action', 'Adventure', 'Sci-Fi']}                    \n",
       "7  {'id': '122886', 'film_to_franchise': {'name': 'film', 'parent': '1'}, 'title': 'Star Wars: Episode VII - The Force Awakens', 'year': '2015', 'genre': ['Action', 'Adventure', 'Fantasy', 'Sci-Fi', 'IMAX']}  "
      ]
     },
     "execution_count": 46,
     "metadata": {},
     "output_type": "execute_result"
    }
   ],
   "source": [
    "pd.DataFrame(get_all_docs(\"series\", 1000)[\"hits\"][\"hits\"])"
   ]
  },
  {
   "cell_type": "markdown",
   "metadata": {},
   "source": [
    "## SEARCH"
   ]
  },
  {
   "cell_type": "markdown",
   "metadata": {},
   "source": [
    "**filters**: ask a yes/no question of your data\n",
    "\n",
    "**queries**: return data in terms of relevance\n",
    "\n",
    "Use filters when you can, they are fast and cacheable."
   ]
  },
  {
   "cell_type": "markdown",
   "metadata": {},
   "source": [
    "### 1) Boolean query with filter\n",
    "\n",
    "Movie which must have “”trek” in title and its year is gte to 2010.\n",
    "\n",
    "In BOOL query we can combine multiple queries,\n",
    "MUST is equivalent to AND in ES"
   ]
  },
  {
   "cell_type": "code",
   "execution_count": 49,
   "metadata": {},
   "outputs": [
    {
     "name": "stdout",
     "output_type": "stream",
     "text": [
      "{\n",
      "    \"_shards\": {\n",
      "        \"failed\": 0,\n",
      "        \"skipped\": 0,\n",
      "        \"successful\": 1,\n",
      "        \"total\": 1\n",
      "    },\n",
      "    \"hits\": {\n",
      "        \"hits\": [\n",
      "            {\n",
      "                \"_id\": \"NstVM28B_MBVO-3Hn8xA\",\n",
      "                \"_index\": \"movies\",\n",
      "                \"_score\": 1.5169398,\n",
      "                \"_source\": {\n",
      "                    \"genre\": [\n",
      "                        \"Action\",\n",
      "                        \"Adventure\",\n",
      "                        \"Sci-Fi\"\n",
      "                    ],\n",
      "                    \"id\": \"135569\",\n",
      "                    \"title\": \"Star Trek Beyond\",\n",
      "                    \"year\": 2016\n",
      "                },\n",
      "                \"_type\": \"_doc\"\n",
      "            }\n",
      "        ],\n",
      "        \"max_score\": 1.5169398,\n",
      "        \"total\": {\n",
      "            \"relation\": \"eq\",\n",
      "            \"value\": 1\n",
      "        }\n",
      "    },\n",
      "    \"timed_out\": false,\n",
      "    \"took\": 41\n",
      "}\n"
     ]
    }
   ],
   "source": [
    "query={\n",
    "    \"query\": {\n",
    "        \"bool\": {\n",
    "            \"must\": {\"term\": {\"title\": \"trek\"}},\n",
    "            \"filter\": {\"range\": {\"year\": {\"gte\": 2010}}}\n",
    "        }\n",
    "    }\n",
    "}\n",
    "r=search(es, \"movies\", query)\n",
    "pprint(r)"
   ]
  },
  {
   "cell_type": "markdown",
   "metadata": {},
   "source": [
    "BOOL QUERY and BOOL FILTER are 2 different thing, which both have must, must_not and should operator.\n",
    "Instead of filtering out the results that don’t meet the BOOLEAN condition, it actually scores the result by relevance.\n",
    "\n",
    "Queries are wrapped in query:{} block\n",
    "Filters are wrapped in filter:{} block\n",
    "\n",
    "We can nest them inside each other.\n",
    "\n",
    "Filters can combine to do more complex things"
   ]
  },
  {
   "cell_type": "markdown",
   "metadata": {},
   "source": [
    "### 2) PHRASE SEARCH\n",
    "\n",
    "Phrase matching: must find all terms in right order"
   ]
  },
  {
   "cell_type": "markdown",
   "metadata": {},
   "source": [
    "### 3) SLOP\n",
    "\n",
    "SLOP: order maters but you’re ok with some words being in between the terms.\n",
    "Slop represents how far you’re willing to let a term move to satisfy a phrase(in either direction).\n",
    "\n",
    "Another example: “Quick brown fox” would match “quick fox” with a slop of 1.\n",
    "\n",
    "\n",
    "PROXIMITY QUERIES:\n",
    "Remember this is a query, results are sorted by relevance.\n",
    "Just use a really high slop if you want to get any documents that contains the words in your phrase but want document that have the words closer together scored higher.\n",
    "query:{\n",
    "\tmatch_phrase:{\n",
    "\t\ttitle:{quert:star beyond, slop:100}\n",
    "\t}\n",
    "}\n",
    "\n",
    "\n",
    "Match: e.g.  “Star Wars”, match query will treat this as a seprate words and will return movies which have star and wars in them in title.\n",
    "\n",
    "Match_phrase will treat it like a phrase and return movies which have “star wars” phrase in the title."
   ]
  },
  {
   "cell_type": "markdown",
   "metadata": {},
   "source": [
    "### 4) Pagination\n",
    "Specify “from” and “size”"
   ]
  },
  {
   "cell_type": "markdown",
   "metadata": {},
   "source": [
    "*WARNING*\n",
    "\n",
    "- Deep pagination can kill performance\n",
    "- Every result muse be retreived, collected and sorted.\n",
    "- Enforce an upper bound on how many result you'll return users."
   ]
  },
  {
   "cell_type": "code",
   "execution_count": 50,
   "metadata": {},
   "outputs": [
    {
     "name": "stdout",
     "output_type": "stream",
     "text": [
      "{\n",
      "    \"_shards\": {\n",
      "        \"failed\": 0,\n",
      "        \"skipped\": 0,\n",
      "        \"successful\": 1,\n",
      "        \"total\": 1\n",
      "    },\n",
      "    \"hits\": {\n",
      "        \"hits\": [\n",
      "            {\n",
      "                \"_id\": \"OMtVM28B_MBVO-3Hn8xA\",\n",
      "                \"_index\": \"movies\",\n",
      "                \"_score\": 0.640912,\n",
      "                \"_source\": {\n",
      "                    \"genre\": [\n",
      "                        \"Sci-Fi\",\n",
      "                        \"IMAX\"\n",
      "                    ],\n",
      "                    \"id\": \"109487\",\n",
      "                    \"title\": \"Interstellar\",\n",
      "                    \"year\": 2014\n",
      "                },\n",
      "                \"_type\": \"_doc\"\n",
      "            },\n",
      "            {\n",
      "                \"_id\": \"OstVM28B_MBVO-3Hn8xA\",\n",
      "                \"_index\": \"movies\",\n",
      "                \"_score\": 0.640912,\n",
      "                \"_source\": {\n",
      "                    \"genre\": [\n",
      "                        \"Horror\",\n",
      "                        \"Sci-Fi\"\n",
      "                    ],\n",
      "                    \"id\": \"1924\",\n",
      "                    \"title\": \"Plan 9 from Outer Space\",\n",
      "                    \"year\": 1959\n",
      "                },\n",
      "                \"_type\": \"_doc\"\n",
      "            },\n",
      "            {\n",
      "                \"_id\": \"NstVM28B_MBVO-3Hn8xA\",\n",
      "                \"_index\": \"movies\",\n",
      "                \"_score\": 0.5753642,\n",
      "                \"_source\": {\n",
      "                    \"genre\": [\n",
      "                        \"Action\",\n",
      "                        \"Adventure\",\n",
      "                        \"Sci-Fi\"\n",
      "                    ],\n",
      "                    \"id\": \"135569\",\n",
      "                    \"title\": \"Star Trek Beyond\",\n",
      "                    \"year\": 2016\n",
      "                },\n",
      "                \"_type\": \"_doc\"\n",
      "            },\n",
      "            {\n",
      "                \"_id\": \"N8tVM28B_MBVO-3Hn8xA\",\n",
      "                \"_index\": \"movies\",\n",
      "                \"_score\": 0.4776608,\n",
      "                \"_source\": {\n",
      "                    \"genre\": [\n",
      "                        \"Action\",\n",
      "                        \"Adventure\",\n",
      "                        \"Fantasy\",\n",
      "                        \"Sci-Fi\",\n",
      "                        \"IMAX\"\n",
      "                    ],\n",
      "                    \"id\": \"122886\",\n",
      "                    \"title\": \"Star Wars: Episode VII - The Force Awakens\",\n",
      "                    \"year\": 2015\n",
      "                },\n",
      "                \"_type\": \"_doc\"\n",
      "            }\n",
      "        ],\n",
      "        \"max_score\": 0.640912,\n",
      "        \"total\": {\n",
      "            \"relation\": \"eq\",\n",
      "            \"value\": 4\n",
      "        }\n",
      "    },\n",
      "    \"timed_out\": false,\n",
      "    \"took\": 17\n",
      "}\n"
     ]
    }
   ],
   "source": [
    "query={\n",
    "    \"from\": 0,\n",
    "    \"size\": 4,\n",
    "    \"query\": {\"match\": {\"genre\": \"Sci-Fi\"}}\n",
    "}\n",
    "\n",
    "r=search(es, \"movies\", query)\n",
    "pprint(r)"
   ]
  },
  {
   "cell_type": "markdown",
   "metadata": {},
   "source": [
    "### SORTING"
   ]
  },
  {
   "cell_type": "markdown",
   "metadata": {},
   "source": [
    "INT: \n",
    "Simple for integer fields, sort results on any integer fields\n",
    "\n",
    "STR: \n",
    "A string that is analysed(partial matches/fuzzy queries) for full-text search can’t be used to sort documents.\n",
    "  \n",
    "  This is bcz it exists in the inverted index as individual terms, not as entire string."
   ]
  },
  {
   "cell_type": "markdown",
   "metadata": {},
   "source": [
    "#### To sorting on analysed field\n",
    "\n",
    "- Map a keyword copy by defining a sub-field that is not analysed.  \n",
    "- You cannot change the mappings on existing index.\n",
    "- You’d have to delete it, setup a new mapping, and re-index it.\n",
    "- Like the number of shards, this is something you should think about before importing data into your index."
   ]
  },
  {
   "cell_type": "code",
   "execution_count": 51,
   "metadata": {},
   "outputs": [
    {
     "data": {
      "text/plain": [
       "(5, 0)"
      ]
     },
     "execution_count": 51,
     "metadata": {},
     "output_type": "execute_result"
    }
   ],
   "source": [
    "# mappings={\n",
    "#     \"mappings\":{\n",
    "#         \"properties\":{\n",
    "#             \"title\":{\n",
    "#                 \"type\": \"text\",\n",
    "#                 \"fields\": {\n",
    "#                     \"raw\": {\"type\": \"keyword\"}\n",
    "#                 }\n",
    "#             }\n",
    "#         }\n",
    "#     }\n",
    "# }\n",
    "\n",
    "mappings={\"mappings\" : {\n",
    "      \"properties\" : {\n",
    "        \"title\" : {\n",
    "          \"type\" : \"text\",\n",
    "          \"fields\" : {\n",
    "            \"keyword\" : {\n",
    "              \"type\" : \"keyword\",\n",
    "              \"ignore_above\" : 256\n",
    "            }\n",
    "          }\n",
    "        },\n",
    "      }\n",
    "    }\n",
    " }\n",
    "delete_index(es,\"movies\")\n",
    "create_index(es, \"movies\", mapping)\n",
    "passed, failed = set_doc_bulk(es, \"movies\", docs)\n",
    "passed, failed\n",
    "# pprint(mappings)"
   ]
  },
  {
   "cell_type": "code",
   "execution_count": 52,
   "metadata": {},
   "outputs": [
    {
     "name": "stdout",
     "output_type": "stream",
     "text": [
      "{\n",
      "    \"_shards\": {\n",
      "        \"failed\": 0,\n",
      "        \"skipped\": 0,\n",
      "        \"successful\": 1,\n",
      "        \"total\": 1\n",
      "    },\n",
      "    \"hits\": {\n",
      "        \"hits\": [\n",
      "            {\n",
      "                \"_id\": \"-37FWHABs3C7qiFqmvo9\",\n",
      "                \"_index\": \"movies\",\n",
      "                \"_score\": null,\n",
      "                \"_source\": {\n",
      "                    \"genre\": [\n",
      "                        \"Action\",\n",
      "                        \"Adventure\",\n",
      "                        \"Fantasy\",\n",
      "                        \"Sci-Fi\",\n",
      "                        \"IMAX\"\n",
      "                    ],\n",
      "                    \"id\": \"122886\",\n",
      "                    \"title\": \"Star Wars: Episode VII - The Force Awakens\",\n",
      "                    \"year\": 2015\n",
      "                },\n",
      "                \"_type\": \"_doc\",\n",
      "                \"sort\": [\n",
      "                    \"Star Wars: Episode VII - The Force Awakens\"\n",
      "                ]\n",
      "            },\n",
      "            {\n",
      "                \"_id\": \"_n7FWHABs3C7qiFqmvo9\",\n",
      "                \"_index\": \"movies\",\n",
      "                \"_score\": null,\n",
      "                \"_source\": {\n",
      "                    \"genre\": [\n",
      "                        \"Horror\",\n",
      "                        \"Sci-Fi\"\n",
      "                    ],\n",
      "                    \"id\": \"1924\",\n",
      "                    \"title\": \"Plan 9 from Outer Space\",\n",
      "                    \"year\": 1959\n",
      "                },\n",
      "                \"_type\": \"_doc\",\n",
      "                \"sort\": [\n",
      "                    \"Plan 9 from Outer Space\"\n",
      "                ]\n",
      "            },\n",
      "            {\n",
      "                \"_id\": \"_H7FWHABs3C7qiFqmvo9\",\n",
      "                \"_index\": \"movies\",\n",
      "                \"_score\": null,\n",
      "                \"_source\": {\n",
      "                    \"genre\": [\n",
      "                        \"Sci-Fi\",\n",
      "                        \"IMAX\"\n",
      "                    ],\n",
      "                    \"id\": \"109487\",\n",
      "                    \"title\": \"Interstellar\",\n",
      "                    \"year\": 2014\n",
      "                },\n",
      "                \"_type\": \"_doc\",\n",
      "                \"sort\": [\n",
      "                    \"Interstellar\"\n",
      "                ]\n",
      "            }\n",
      "        ],\n",
      "        \"max_score\": null,\n",
      "        \"total\": {\n",
      "            \"relation\": \"eq\",\n",
      "            \"value\": 3\n",
      "        }\n",
      "    },\n",
      "    \"timed_out\": false,\n",
      "    \"took\": 36\n",
      "}\n"
     ]
    }
   ],
   "source": [
    "# url=127.0.0.1:9200/movies/_search?sort=title.raw&pretty\n",
    "query={\n",
    "    \n",
    "    \"query\":{\n",
    "        \"bool\":{\n",
    "            \"must\":{\"match\": {\"genre\": \"Sci-Fi\"}},\n",
    "            \"filter\":{\"range\":{\"year\":{\"lt\": 2016}}},\n",
    "        } \n",
    "    },\n",
    "    \"sort\":[\n",
    "#         {\"year\": {\"order\": \"desc\"}}\n",
    "        {\"title.keyword\": {\"order\": \"desc\"}}\n",
    "    ],\n",
    "}\n",
    "\n",
    "r=search(es, \"movies\", query)\n",
    "pprint(r)"
   ]
  },
  {
   "cell_type": "markdown",
   "metadata": {},
   "source": [
    "### FUZZY MATCHES"
   ]
  },
  {
   "cell_type": "markdown",
   "metadata": {},
   "source": [
    "- To handle typos or Mis-spellings in ES\n",
    "- The Levenshtein edit distance accounts for:\n",
    "    - substitutions\n",
    "    - insertions\n",
    "    - deletion  \n",
    "    \n",
    "- fuzziness: AUTO:\n",
    "    - 0 for 1-2 chars string\n",
    "    - 1 for 3-5 chars string    \n",
    "    - 2 for anything else    "
   ]
  },
  {
   "cell_type": "code",
   "execution_count": 53,
   "metadata": {},
   "outputs": [
    {
     "name": "stdout",
     "output_type": "stream",
     "text": [
      "{\n",
      "    \"_shards\": {\n",
      "        \"failed\": 0,\n",
      "        \"skipped\": 0,\n",
      "        \"successful\": 1,\n",
      "        \"total\": 1\n",
      "    },\n",
      "    \"hits\": {\n",
      "        \"hits\": [\n",
      "            {\n",
      "                \"_id\": \"_H7FWHABs3C7qiFqmvo9\",\n",
      "                \"_index\": \"movies\",\n",
      "                \"_score\": 1.6236734,\n",
      "                \"_source\": {\n",
      "                    \"genre\": [\n",
      "                        \"Sci-Fi\",\n",
      "                        \"IMAX\"\n",
      "                    ],\n",
      "                    \"id\": \"109487\",\n",
      "                    \"title\": \"Interstellar\",\n",
      "                    \"year\": 2014\n",
      "                },\n",
      "                \"_type\": \"_doc\"\n",
      "            }\n",
      "        ],\n",
      "        \"max_score\": 1.6236734,\n",
      "        \"total\": {\n",
      "            \"relation\": \"eq\",\n",
      "            \"value\": 1\n",
      "        }\n",
      "    },\n",
      "    \"timed_out\": false,\n",
      "    \"took\": 55\n",
      "}\n"
     ]
    }
   ],
   "source": [
    "query={\n",
    "    \"query\":{\n",
    "        \"fuzzy\":{\n",
    "            \"title\": {\"value\": \"intrsteller\", \"fuzziness\": 2}\n",
    "        }\n",
    "    }\n",
    "}\n",
    "r=search(es, \"movies\", query)\n",
    "pprint(r)"
   ]
  },
  {
   "cell_type": "markdown",
   "metadata": {},
   "source": [
    "#### Partial Matches"
   ]
  },
  {
   "cell_type": "code",
   "execution_count": 54,
   "metadata": {},
   "outputs": [
    {
     "name": "stdout",
     "output_type": "stream",
     "text": [
      "{\n",
      "    \"_shards\": {\n",
      "        \"failed\": 0,\n",
      "        \"skipped\": 0,\n",
      "        \"successful\": 1,\n",
      "        \"total\": 1\n",
      "    },\n",
      "    \"hits\": {\n",
      "        \"hits\": [\n",
      "            {\n",
      "                \"_id\": \"_H7FWHABs3C7qiFqmvo9\",\n",
      "                \"_index\": \"movies\",\n",
      "                \"_score\": 1.0,\n",
      "                \"_source\": {\n",
      "                    \"genre\": [\n",
      "                        \"Sci-Fi\",\n",
      "                        \"IMAX\"\n",
      "                    ],\n",
      "                    \"id\": \"109487\",\n",
      "                    \"title\": \"Interstellar\",\n",
      "                    \"year\": 2014\n",
      "                },\n",
      "                \"_type\": \"_doc\"\n",
      "            }\n",
      "        ],\n",
      "        \"max_score\": 1.0,\n",
      "        \"total\": {\n",
      "            \"relation\": \"eq\",\n",
      "            \"value\": 1\n",
      "        }\n",
      "    },\n",
      "    \"timed_out\": false,\n",
      "    \"took\": 7\n",
      "}\n"
     ]
    }
   ],
   "source": [
    "query={\n",
    "    \"query\":{\n",
    "        \"prefix\":{\n",
    "            \"title\": \"int\"\n",
    "        }\n",
    "    }\n",
    "}\n",
    "r=search(es, \"movies\", query)\n",
    "pprint(r)"
   ]
  },
  {
   "cell_type": "markdown",
   "metadata": {},
   "source": [
    "## Auto complete and suggestions\n",
    "\n",
    "QUERY-TIME SEARCH AS YOU TYPE"
   ]
  },
  {
   "cell_type": "code",
   "execution_count": 55,
   "metadata": {},
   "outputs": [
    {
     "name": "stdout",
     "output_type": "stream",
     "text": [
      "{\n",
      "    \"_shards\": {\n",
      "        \"failed\": 0,\n",
      "        \"skipped\": 0,\n",
      "        \"successful\": 1,\n",
      "        \"total\": 1\n",
      "    },\n",
      "    \"hits\": {\n",
      "        \"hits\": [\n",
      "            {\n",
      "                \"_id\": \"-n7FWHABs3C7qiFqmvo9\",\n",
      "                \"_index\": \"movies\",\n",
      "                \"_score\": 2.4749134,\n",
      "                \"_source\": {\n",
      "                    \"genre\": [\n",
      "                        \"Action\",\n",
      "                        \"Adventure\",\n",
      "                        \"Sci-Fi\"\n",
      "                    ],\n",
      "                    \"id\": \"135569\",\n",
      "                    \"title\": \"Star Trek Beyond\",\n",
      "                    \"year\": 2016\n",
      "                },\n",
      "                \"_type\": \"_doc\"\n",
      "            }\n",
      "        ],\n",
      "        \"max_score\": 2.4749134,\n",
      "        \"total\": {\n",
      "            \"relation\": \"eq\",\n",
      "            \"value\": 1\n",
      "        }\n",
      "    },\n",
      "    \"timed_out\": false,\n",
      "    \"took\": 21\n",
      "}\n"
     ]
    }
   ],
   "source": [
    "query={\n",
    "    \"query\":{\n",
    "        \"match_phrase_prefix\":{\n",
    "            \"title\":{\n",
    "                \"query\": \"star trek\",\n",
    "                \"slop\": 10\n",
    "            }\n",
    "        }\n",
    "    }\n",
    "}\n",
    "\n",
    "r=search(es, \"movies\", query)\n",
    "pprint(r)"
   ]
  },
  {
   "cell_type": "markdown",
   "metadata": {},
   "source": [
    "## N-GRAMS"
   ]
  },
  {
   "cell_type": "markdown",
   "metadata": {},
   "source": [
    "N-GRAMS:\n",
    "\"star\"\n",
    "\n",
    "- unigram: [s,t,a,r]\n",
    "- bigram:  [st,ta,ar]\n",
    "- trigram: [sta,tar]\n",
    "- 4-gram:  [star]\n",
    "\n",
    "EDGE N-GRAMS: \n",
    "\"star\"\n",
    "\n",
    "These are built only on the beginning of each terms e.g.\n",
    "  For STAR  the edge n-grams will be:\n",
    "- unigram: s\n",
    "- bigram:   st\n",
    "- trigram:   sta\n",
    "- 4-gram:   star"
   ]
  },
  {
   "cell_type": "markdown",
   "metadata": {},
   "source": [
    "Indexing n-grams\n",
    "\n",
    "1) Create an auto-coplete analyzer"
   ]
  },
  {
   "cell_type": "code",
   "execution_count": 56,
   "metadata": {},
   "outputs": [
    {
     "data": {
      "text/plain": [
       "('created', 5, 0)"
      ]
     },
     "execution_count": 56,
     "metadata": {},
     "output_type": "execute_result"
    }
   ],
   "source": [
    "mapping={\n",
    "    \"settings\":{\n",
    "        \"analysis\":{\n",
    "            \"filter\":{\n",
    "                \"autocomplete_filter\":{\n",
    "                    \"type\": \"edge_ngram\",\n",
    "                    \"min_gram\": 1,\n",
    "                    \"max_gram\": 20,\n",
    "                }\n",
    "            },\n",
    "            \"analyzer\":{\n",
    "                \"autocomplete\":{\n",
    "                    \"type\":\"custom\",\n",
    "                    \"tokenizer\": \"standard\",\n",
    "                    \"filter\":[\n",
    "                        \"lowercase\",\n",
    "                        \"autocomplete_filter\"\n",
    "                    ]\n",
    "                }\n",
    "            }\n",
    "        }\n",
    "    }\n",
    "}\n",
    "delete_index(es,\"movies\")\n",
    "r=create_index(es, \"movies\", mapping)\n",
    "passed, failed = set_doc_bulk(es, \"movies\", docs)\n",
    "r,passed, failed"
   ]
  },
  {
   "cell_type": "code",
   "execution_count": null,
   "metadata": {},
   "outputs": [],
   "source": []
  }
 ],
 "metadata": {
  "kernelspec": {
   "display_name": "Python (fastaienv)",
   "language": "python",
   "name": "fastaienv"
  },
  "language_info": {
   "codemirror_mode": {
    "name": "ipython",
    "version": 3
   },
   "file_extension": ".py",
   "mimetype": "text/x-python",
   "name": "python",
   "nbconvert_exporter": "python",
   "pygments_lexer": "ipython3",
   "version": "3.7.0"
  }
 },
 "nbformat": 4,
 "nbformat_minor": 2
}
